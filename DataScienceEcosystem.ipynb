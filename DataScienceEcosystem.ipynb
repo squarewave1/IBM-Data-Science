{
 "cells": [
  {
   "cell_type": "markdown",
   "id": "725b8d58-c968-4658-b7d6-3e7728e6bbc5",
   "metadata": {},
   "source": [
    "Data Science Tools and Ecosystem"
   ]
  },
  {
   "cell_type": "markdown",
   "id": "993630c0-3a14-4a4a-a44c-ad29e0bbff4d",
   "metadata": {},
   "source": [
    "Introduction In this notebook, Data Science Tools and Ecosystem are summarized."
   ]
  },
  {
   "cell_type": "markdown",
   "id": "451523b7-a48e-4efe-bc56-1fdb97827c7c",
   "metadata": {},
   "source": [
    "Objectives:\n",
    "\n",
    "Popular languages that Data Scientists use\n",
    "Commonly Used Libraries by Data Scientists\n",
    "Data Science Tools\n",
    "Arithmetic Expressions"
   ]
  },
  {
   "cell_type": "markdown",
   "id": "78a640e8-dfe6-42bc-b450-a4c65d34e39a",
   "metadata": {},
   "source": [
    "Some of the popular languages that Data Scientists use are:\n",
    "1. Python\n",
    "2. R\n",
    "3. Java"
   ]
  },
  {
   "cell_type": "markdown",
   "id": "2b2b46b4-a897-4cef-b4ca-4b15f061879d",
   "metadata": {},
   "source": [
    "Some of the commonly used libraries used by Data Scientists include:\n",
    "\n",
    "1. Numpy\n",
    "2. Pandas\n",
    "3. Dplyr"
   ]
  },
  {
   "cell_type": "markdown",
   "id": "7d9eb75d-4c86-4372-9290-1e4fb908f266",
   "metadata": {},
   "source": [
    "Data Science Tools\n",
    "|----------------------|\n",
    "| SQL Database         | \n",
    "| Spreadsheets         |\n",
    "| Visualization Tools  |"
   ]
  },
  {
   "cell_type": "markdown",
   "id": "91f6288c-1f8a-4754-a992-6ef89752d88a",
   "metadata": {},
   "source": [
    "Below are a few examples of evaluating arithmetic expressions in Python.¶"
   ]
  },
  {
   "cell_type": "code",
   "execution_count": 1,
   "id": "9e0853f9-a5f1-4384-b4c2-920c5adb85b9",
   "metadata": {},
   "outputs": [
    {
     "data": {
      "text/plain": [
       "17"
      ]
     },
     "execution_count": 1,
     "metadata": {},
     "output_type": "execute_result"
    }
   ],
   "source": [
    "# This a simple arithmetic expression to mutiply then add integers\n",
    "(3*4)+5"
   ]
  },
  {
   "cell_type": "markdown",
   "id": "843eb871-649c-4348-9caa-6ef24f12f7df",
   "metadata": {},
   "source": [
    "Author\n",
    "Felix Rivera"
   ]
  },
  {
   "cell_type": "code",
   "execution_count": null,
   "id": "9f77d767-6587-4151-a011-eaade91d1593",
   "metadata": {},
   "outputs": [],
   "source": []
  }
 ],
 "metadata": {
  "kernelspec": {
   "display_name": "Python 3 (ipykernel)",
   "language": "python",
   "name": "python3"
  },
  "language_info": {
   "codemirror_mode": {
    "name": "ipython",
    "version": 3
   },
   "file_extension": ".py",
   "mimetype": "text/x-python",
   "name": "python",
   "nbconvert_exporter": "python",
   "pygments_lexer": "ipython3",
   "version": "3.12.9"
  }
 },
 "nbformat": 4,
 "nbformat_minor": 5
}
